{
 "cells": [
  {
   "cell_type": "code",
   "execution_count": 4,
   "id": "d7d6de54",
   "metadata": {
    "executionInfo": {
     "elapsed": 213,
     "status": "ok",
     "timestamp": 1692234094474,
     "user": {
      "displayName": "陆泽云",
      "userId": "10124706971000041796"
     },
     "user_tz": -480
    },
    "id": "d7d6de54"
   },
   "outputs": [],
   "source": [
    "import requests\n",
    "import pandas as pd\n",
    "from bs4 import BeautifulSoup as bs\n",
    "from tqdm import tqdm\n",
    "import json\n",
    "import os\n",
    "from kaggle.api.kaggle_api_extended import KaggleApi\n",
    "import pymongo\n",
    "# connect to mongodb client\n"
   ]
  },
  {
   "cell_type": "code",
   "execution_count": 3,
   "id": "sooKlL9ZGlco",
   "metadata": {
    "colab": {
     "base_uri": "https://localhost:8080/"
    },
    "executionInfo": {
     "elapsed": 15021,
     "status": "ok",
     "timestamp": 1692234094266,
     "user": {
      "displayName": "陆泽云",
      "userId": "10124706971000041796"
     },
     "user_tz": -480
    },
    "id": "sooKlL9ZGlco",
    "outputId": "d110c451-a8bc-4999-a52a-27c5d10421f5"
   },
   "outputs": [
    {
     "name": "stdout",
     "output_type": "stream",
     "text": [
      "Requirement already satisfied: kaggle in /usr/local/lib/python3.10/dist-packages (1.5.16)\n",
      "Requirement already satisfied: six>=1.10 in /usr/local/lib/python3.10/dist-packages (from kaggle) (1.16.0)\n",
      "Requirement already satisfied: certifi in /usr/local/lib/python3.10/dist-packages (from kaggle) (2023.7.22)\n",
      "Requirement already satisfied: python-dateutil in /usr/local/lib/python3.10/dist-packages (from kaggle) (2.8.2)\n",
      "Requirement already satisfied: requests in /usr/local/lib/python3.10/dist-packages (from kaggle) (2.31.0)\n",
      "Requirement already satisfied: tqdm in /usr/local/lib/python3.10/dist-packages (from kaggle) (4.66.1)\n",
      "Requirement already satisfied: python-slugify in /usr/local/lib/python3.10/dist-packages (from kaggle) (8.0.1)\n",
      "Requirement already satisfied: urllib3 in /usr/local/lib/python3.10/dist-packages (from kaggle) (2.0.4)\n",
      "Requirement already satisfied: bleach in /usr/local/lib/python3.10/dist-packages (from kaggle) (6.0.0)\n",
      "Requirement already satisfied: webencodings in /usr/local/lib/python3.10/dist-packages (from bleach->kaggle) (0.5.1)\n",
      "Requirement already satisfied: text-unidecode>=1.3 in /usr/local/lib/python3.10/dist-packages (from python-slugify->kaggle) (1.3)\n",
      "Requirement already satisfied: charset-normalizer<4,>=2 in /usr/local/lib/python3.10/dist-packages (from requests->kaggle) (3.2.0)\n",
      "Requirement already satisfied: idna<4,>=2.5 in /usr/local/lib/python3.10/dist-packages (from requests->kaggle) (3.4)\n",
      "Collecting pymongo\n",
      "  Downloading pymongo-4.4.1-cp310-cp310-manylinux_2_17_x86_64.manylinux2014_x86_64.whl (603 kB)\n",
      "\u001b[2K     \u001b[90m━━━━━━━━━━━━━━━━━━━━━━━━━━━━━━━━━━━━━━━\u001b[0m \u001b[32m603.6/603.6 kB\u001b[0m \u001b[31m5.5 MB/s\u001b[0m eta \u001b[36m0:00:00\u001b[0m\n",
      "\u001b[?25hCollecting dnspython<3.0.0,>=1.16.0 (from pymongo)\n",
      "  Downloading dnspython-2.4.2-py3-none-any.whl (300 kB)\n",
      "\u001b[2K     \u001b[90m━━━━━━━━━━━━━━━━━━━━━━━━━━━━━━━━━━━━━━━\u001b[0m \u001b[32m300.4/300.4 kB\u001b[0m \u001b[31m7.5 MB/s\u001b[0m eta \u001b[36m0:00:00\u001b[0m\n",
      "\u001b[?25hInstalling collected packages: dnspython, pymongo\n",
      "Successfully installed dnspython-2.4.2 pymongo-4.4.1\n"
     ]
    }
   ],
   "source": [
    "!pip install kaggle\n",
    "!pip install pymongo"
   ]
  },
  {
   "cell_type": "markdown",
   "id": "c7d9df16",
   "metadata": {
    "id": "c7d9df16"
   },
   "source": [
    "Crawler"
   ]
  },
  {
   "cell_type": "code",
   "execution_count": 5,
   "id": "9994997b",
   "metadata": {
    "executionInfo": {
     "elapsed": 2,
     "status": "ok",
     "timestamp": 1692234094474,
     "user": {
      "displayName": "陆泽云",
      "userId": "10124706971000041796"
     },
     "user_tz": -480
    },
    "id": "9994997b"
   },
   "outputs": [],
   "source": [
    "class Crawler:\n",
    "    def __init__(self,save_path):\n",
    "        self.save_path=save_path #存储路径\n",
    "        self.url=\"\" #每个URL不同\n",
    "        self.dt={}\n",
    "        #connection string will not be shown explicitly\n",
    "        client = pymongo.MongoClient(\"\")\n",
    "        db = client['Crawl-Data']\n",
    "        self.collection = db['metadata']\n",
    "    def save(self):\n",
    "        with open(self.save_path, 'w') as f:\n",
    "            f.write(json.dumps(self.dt))"
   ]
  },
  {
   "cell_type": "markdown",
   "id": "97f1c52b",
   "metadata": {
    "id": "97f1c52b"
   },
   "source": [
    "UCI"
   ]
  },
  {
   "cell_type": "code",
   "execution_count": 6,
   "id": "7e1a92c8",
   "metadata": {
    "executionInfo": {
     "elapsed": 2,
     "status": "ok",
     "timestamp": 1692234094474,
     "user": {
      "displayName": "陆泽云",
      "userId": "10124706971000041796"
     },
     "user_tz": -480
    },
    "id": "7e1a92c8"
   },
   "outputs": [],
   "source": [
    "class UCI(Crawler):\n",
    "    def __init__(self, save_path):\n",
    "        super().__init__(save_path)\n",
    "        self.url=\"https://archive.ics.uci.edu/ml/datasets.php\"\n",
    "    def process_data(self):\n",
    "        urls = set()\n",
    "        URL = \"https://archive.ics.uci.edu/datasets?skip=0&take=1000&sort=desc&orderBy=NumHits&search=\" # assuming uci archive size no more than 1k\n",
    "        page = requests.get(URL)\n",
    "        soup = bs(page.content, \"html.parser\")\n",
    "        for h2 in soup.find_all('h2'):\n",
    "            urls.add(h2.find('a')['href'])\n",
    "        dt = pd.DataFrame(columns = [\"id\", \"url\"])\n",
    "        page0 = requests.get(\"https://archive.ics.uci.edu\" + list(urls)[0])\n",
    "        soup0 = bs(page0.text, \"html.parser\")\n",
    "        tb = pd.DataFrame(columns = [\"Title\",\"Description\"] + [i.text for i in soup0.find_all('h1')][1:7])\n",
    "        for url in tqdm(list(urls)):\n",
    "            dt.loc[len(dt)] = [url[url.rfind(\"/\")+1:], \"https://archive.ics.uci.edu\" + url]\n",
    "            page0 = requests.get(\"https://archive.ics.uci.edu\" + url)\n",
    "            soup0 = bs(page0.text, \"html.parser\")\n",
    "            txt2 = soup0.find_all(['h1','p'])\n",
    "            tb.loc[len(tb)] = [soup0.find('h1').text] + [i.text for i in soup0.find_all('p')][:7]\n",
    "        self.dt= json.loads(pd.concat([dt, tb], axis = 1).to_json(orient = \"records\"))\n",
    "        #self.save\n",
    "    def upload_data(self):\n",
    "        count = 0\n",
    "        for data in self.dt:\n",
    "            # exists duplicate names, but different datasets\n",
    "            existing_data = self.collection.find_one({\"url\": data[\"url\"]})\n",
    "            if existing_data is None:\n",
    "                # Data is not in the collection, so insert it\n",
    "                self.collection.insert_one(data)\n",
    "                count += 1\n",
    "        print('Inserted', count, \"number of data\")"
   ]
  },
  {
   "cell_type": "markdown",
   "id": "f65fb158",
   "metadata": {
    "id": "f65fb158"
   },
   "source": [
    "Kaggle"
   ]
  },
  {
   "cell_type": "code",
   "execution_count": null,
   "id": "v4aIB3TZC9v9",
   "metadata": {
    "id": "v4aIB3TZC9v9"
   },
   "outputs": [],
   "source": [
    "class Kaggle(Crawler):\n",
    "    def __init__(self, save_path,save_metadata):\n",
    "        super().__init__(save_path)\n",
    "        self.url=\"https://archive.ics.uci.edu/ml/datasets.php\"\n",
    "    def upload_data(self):\n",
    "        api = KaggleApi()\n",
    "\n",
    "        #os.environ['KAGGLE_CONFIG_DIR'] = '/content'\n",
    "        api.authenticate()\n",
    "        # Fetch the list of datasets, now we are fetching 1000, 20 per page\n",
    "        count = 0\n",
    "        for i in range(1,501):\n",
    "            datasets = api.dataset_list(page=i)\n",
    "            for dataset in datasets:\n",
    "                  #need to download the metadatafile and read it each time to get information\n",
    "                try:\n",
    "                        metadata = api.dataset_metadata(dataset.ref, path = '/content/metadata.json')\n",
    "                except:\n",
    "                    continue\n",
    "                with open('/content/metadata.json/dataset-metadata.json') as metadata_file:\n",
    "                        metadata = json.load(metadata_file)\n",
    "                        metadata['name'] = dataset.ref\n",
    "                        metadata['url'] = dataset.url\n",
    "                        #add Kaggle data to mongodb\n",
    "                        existing_data = self.collection.find_one({\"url\": dataset.url})\n",
    "                        if existing_data is None:\n",
    "                          # Data is not in the collection, so insert it\n",
    "                            self.collection.insert_one(metadata)\n",
    "                            count += 1\n",
    "        # Print dataset names and URLs\n",
    "        #self.save()"
   ]
  },
  {
   "cell_type": "markdown",
   "id": "5634f2ee",
   "metadata": {
    "id": "5634f2ee"
   },
   "source": [
    "Test"
   ]
  },
  {
   "cell_type": "code",
   "execution_count": 7,
   "id": "a71fa21a",
   "metadata": {
    "colab": {
     "base_uri": "https://localhost:8080/"
    },
    "executionInfo": {
     "elapsed": 391811,
     "status": "ok",
     "timestamp": 1692234492181,
     "user": {
      "displayName": "陆泽云",
      "userId": "10124706971000041796"
     },
     "user_tz": -480
    },
    "id": "a71fa21a",
    "outputId": "30d9346f-c2e0-4761-9fc2-ace70ddd8fec"
   },
   "outputs": [
    {
     "name": "stderr",
     "output_type": "stream",
     "text": [
      "100%|██████████| 644/644 [06:10<00:00,  1.74it/s]\n"
     ]
    },
    {
     "name": "stdout",
     "output_type": "stream",
     "text": [
      "Inserted 0 number of data\n"
     ]
    }
   ],
   "source": [
    "P=UCI(\"/Referene.txt\")\n",
    "P.process_data()\n",
    "P.upload_data()"
   ]
  },
  {
   "cell_type": "code",
   "execution_count": null,
   "id": "2VGOqsJSGy4Z",
   "metadata": {
    "id": "2VGOqsJSGy4Z"
   },
   "outputs": [],
   "source": [
    "Kaggleset=Kaggle(\"/Referene.txt\")\n",
    "Kaggleset.upload_data()"
   ]
  }
 ],
 "metadata": {
  "colab": {
   "provenance": []
  },
  "kernelspec": {
   "display_name": "Python 3 (ipykernel)",
   "language": "python",
   "name": "python3"
  },
  "language_info": {
   "codemirror_mode": {
    "name": "ipython",
    "version": 3
   },
   "file_extension": ".py",
   "mimetype": "text/x-python",
   "name": "python",
   "nbconvert_exporter": "python",
   "pygments_lexer": "ipython3",
   "version": "3.9.7"
  }
 },
 "nbformat": 4,
 "nbformat_minor": 5
}
